{
  "cells": [
    {
      "cell_type": "markdown",
      "metadata": {
        "id": "HZvz0gdW76W5"
      },
      "source": [
        "# Многослойный перцептрон\n",
        "\n",
        "## Лабораторная работа №4"
      ]
    },
    {
      "cell_type": "markdown",
      "metadata": {
        "id": "T2Pz-P4zD5sC"
      },
      "source": [
        "Присвойте строку с вашим ФИО переменной `name` и выполните ячейку. В ее выводе будет указан номер вашего варианта."
      ]
    },
    {
      "cell_type": "code",
      "execution_count": 1,
      "metadata": {
        "id": "dhoU_CP8DZvg"
      },
      "outputs": [
        {
          "name": "stdout",
          "output_type": "stream",
          "text": [
            "Ваш вариант - №1\n"
          ]
        }
      ],
      "source": [
        "name = \"Сильченко Алексей Евгеньевич\" # Впишите ваше ФИО\n",
        "\n",
        "def calculate_variant(name):\n",
        "    return sum(ord(char) for char in name) % 2 + 1\n",
        "\n",
        "print(f\"Ваш вариант - №{calculate_variant(name)}\")"
      ]
    },
    {
      "cell_type": "markdown",
      "metadata": {
        "id": "gAFVgWfvA9cu"
      },
      "source": [
        "\n",
        "---\n",
        "\n",
        "**Впишите в эту ячейку ваши ФИО, группу и вариант**.\n",
        "\n",
        "ФИО: Сильченко Алексей Евгеньевич\n",
        "\n",
        "Группа: 201-361\n",
        "\n",
        "Вариант: 1\n",
        "\n",
        "---\n",
        "\n",
        "Далее по ходу ноутбука вам встрется ячейки с кодом, в которых будут комментарии с заданиями, и текстовые ячейки как эта с вопросами, на которые вам необходимо письменно в ноутбуке ответить.\n",
        "\n",
        "Все ячейки необходимо запускать.\n",
        "\n",
        "Данные для вариантов лежат по ссылкам:\n",
        "\n",
        "1. http://labcolor.space/mlp-1.csv\n",
        "1. http://labcolor.space/mlp-2.csv\n",
        "\n",
        "Скопируйте ссылку для своего варианта."
      ]
    },
    {
      "cell_type": "markdown",
      "metadata": {
        "id": "hb7oukvg176R"
      },
      "source": [
        "## Импорт модулей"
      ]
    },
    {
      "cell_type": "code",
      "execution_count": 2,
      "metadata": {
        "id": "HLUv2a5i1_Qv"
      },
      "outputs": [],
      "source": [
        "import numpy as np\n",
        "import matplotlib.pyplot as plt\n",
        "import pandas as pd"
      ]
    },
    {
      "cell_type": "markdown",
      "metadata": {
        "id": "_PqyV8DO08ZR"
      },
      "source": [
        "## Загрузка данных\n",
        "\n",
        "Используя уже знакомые вам функции, загрузите данные и проведите их анализ на предмет количества признаков, объектов и классов. В данных последний столбец это целевой признак, а первая строка — это порядковый номер признака начиная с 0."
      ]
    },
    {
      "cell_type": "code",
      "execution_count": 3,
      "metadata": {
        "id": "OXvZhd9U1S8y"
      },
      "outputs": [
        {
          "name": "stdout",
          "output_type": "stream",
          "text": [
            "Количество признаков: 100\n",
            "Количество объектов: 3000\n",
            "Количество уникальных классов: 6\n"
          ]
        }
      ],
      "source": [
        "#\n",
        "# Ваш код\n",
        "\n",
        "# Загрузка данных\n",
        "url = \"http://labcolor.space/mlp-1.csv\"\n",
        "data = pd.read_csv(url)\n",
        "\n",
        "# Анализ данных\n",
        "number_of_features = data.shape[1] - 1  # Вычитаем 1, так как последний столбец - это целевой признак\n",
        "number_of_objects = data.shape[0]\n",
        "unique_classes = data.iloc[:, -1].nunique()\n",
        "\n",
        "# Вывод результатов\n",
        "print(\"Количество признаков:\", number_of_features)\n",
        "print(\"Количество объектов:\", number_of_objects)\n",
        "print(\"Количество уникальных классов:\", unique_classes)"
      ]
    },
    {
      "cell_type": "markdown",
      "metadata": {
        "id": "m9m0a_sb1UvO"
      },
      "source": [
        "**Описание данных**\n",
        "\n",
        "Ваш ответ: \n",
        "Количество признаков: 100\n",
        "Количество объектов: 3000\n",
        "Количество уникальных классов: 6"
      ]
    },
    {
      "cell_type": "markdown",
      "metadata": {
        "id": "1m7Zs2RS1krd"
      },
      "source": [
        "## Подготовка данных\n",
        "\n",
        "Убедитесь что в данных нет отсутствующих значений, если они есть, удалите их или заполните средними значениями - `df.isnull()`."
      ]
    },
    {
      "cell_type": "code",
      "execution_count": 4,
      "metadata": {
        "id": "njpVm4861w4p"
      },
      "outputs": [
        {
          "name": "stdout",
          "output_type": "stream",
          "text": [
            "В данных есть отсутствующие значения.\n",
            "Отсутствующие значения в каждом столбце:\n",
            " 0      0\n",
            "1      0\n",
            "2      0\n",
            "3      0\n",
            "4      0\n",
            "      ..\n",
            "96     0\n",
            "97     0\n",
            "98     0\n",
            "99     1\n",
            "100    0\n",
            "Length: 101, dtype: int64\n",
            "Отсутствующих значений в данных нет.\n"
          ]
        }
      ],
      "source": [
        "# Ваш код\n",
        "\n",
        "if data.isnull().values.any():\n",
        "    print(\"В данных есть отсутствующие значения.\")\n",
        "else:\n",
        "    print(\"Отсутствующих значений в данных нет.\")\n",
        "\n",
        "\n",
        "missing_values = data.isnull().sum()\n",
        "print(\"Отсутствующие значения в каждом столбце:\\n\", missing_values)\n",
        "\n",
        "# Удаление строк с отсутствующими значениями (или можно заменить средними значениями)\n",
        "data = data.dropna()\n",
        "\n",
        "# Проверка после обработки\n",
        "if data.isnull().values.any():\n",
        "    print(\"В данных есть отсутствующие значения.\")\n",
        "else:\n",
        "    print(\"Отсутствующих значений в данных нет.\")"
      ]
    },
    {
      "cell_type": "markdown",
      "metadata": {
        "id": "ReT7oB2f1xOL"
      },
      "source": [
        "**Были ли отсутствующие значения и что вы с ними сделали?**\n",
        "\n",
        "Ваш ответ: Да, удалил т.к. их было не много"
      ]
    },
    {
      "cell_type": "markdown",
      "metadata": {
        "id": "3wIj3aO58Mpx"
      },
      "source": [
        "С помощью `train_test_split` разделите данные на обучающие и тестовые (15-20%). Не забудьте про `random_state`."
      ]
    },
    {
      "cell_type": "code",
      "execution_count": 5,
      "metadata": {
        "id": "OnVBVqiQ8bCl"
      },
      "outputs": [
        {
          "name": "stdout",
          "output_type": "stream",
          "text": [
            "Размер обучающего набора: (2537, 100)\n",
            "Размер тестового набора: (448, 100)\n"
          ]
        }
      ],
      "source": [
        "from sklearn.model_selection import train_test_split\n",
        "\n",
        "# Определение признаков (X) и целевой переменной (y)\n",
        "X = data.iloc[:, :-1]  # Все столбцы, кроме последнего\n",
        "y = data.iloc[:, -1]   # Последний столбец\n",
        "\n",
        "# Разделение данных на обучающие и тестовые наборы\n",
        "X_train, X_test, y_train, y_test = train_test_split(X, y, test_size=0.15, random_state=42)  \n",
        "\n",
        "# Вывод размеров полученных наборов данных\n",
        "print(\"Размер обучающего набора:\", X_train.shape)\n",
        "print(\"Размер тестового набора:\", X_test.shape)"
      ]
    },
    {
      "cell_type": "markdown",
      "metadata": {
        "id": "0A50H4999EEf"
      },
      "source": [
        "Масштабируйте признаки. Для этого импортируйте соответствующий класс, создайте его экземпляр, выполните его \"подгонку\" и примените его к признакам."
      ]
    },
    {
      "cell_type": "code",
      "execution_count": 6,
      "metadata": {
        "id": "viG4aI_I9EWo"
      },
      "outputs": [],
      "source": [
        "from sklearn.preprocessing import StandardScaler\n",
        "\n",
        "# Создание экземпляра StandardScaler\n",
        "scaler = StandardScaler()\n",
        "\n",
        "# \"Подгонка\" масштабировщика на обучающих данных и применение его к обучающему набору\n",
        "X_train_scaled = scaler.fit_transform(X_train)\n",
        "\n",
        "# Применение масштабировщика к тестовому набору (используя те же параметры, что и для обучающего набора)\n",
        "X_test_scaled = scaler.transform(X_test)\n"
      ]
    },
    {
      "cell_type": "markdown",
      "metadata": {
        "id": "p0LFn0mC9_RX"
      },
      "source": [
        "## Обучение модели и подборка гиперпараметров\n",
        "\n",
        "Гиперпараметры и их значения задаются в виде словаря и затем вместе с экземпляром модели в качестве аргументов передаются в конструктор класса `GridSearchCV`, который будет создавать разные варианты модели и обучать их, используя кросс валидацию, сохраняя промежуточные результаты.\n",
        "\n",
        "Попробуйте разные варианты:\n",
        "* количества нейронов в скрытых слоях (hidden_layer_sizes),\n",
        "* функций активации (activation),\n",
        "* скорости обучения (learning_rate_init)."
      ]
    },
    {
      "cell_type": "markdown",
      "metadata": {
        "id": "Bqa2xa6U_H-m"
      },
      "source": [
        "**Что такое гиперпараметры для модели?**\n",
        "\n",
        "Ваш ответ: Гиперпараметры – это параметры, которые задаются до начала обучения модели и не изменяются в процессе обучения.\n",
        "\n",
        "**Опишите суть кросс валидации.**\n",
        "\n",
        "Ваш ответ: Кросс-валидация – это метод оценки обобщающей способности модели, который позволяет более надёжно оценить её работу на независимых данных. \n",
        "\n",
        "**В чем заключается идея поиска по сетке (grid search)?**\n",
        "\n",
        "Ваш ответ: это метод подбора оптимальных гиперпараметров для модели."
      ]
    },
    {
      "cell_type": "code",
      "execution_count": 7,
      "metadata": {
        "id": "utuYQLEr-IRy"
      },
      "outputs": [],
      "source": [
        "\n",
        "# Задание сетки гиперпараметров для перебора\n",
        "param_grid = {\n",
        "    'hidden_layer_sizes': [(50,), (100,), (50, 50), (100, 50)],  # Разные комбинации нейронов в скрытых слоях\n",
        "    'activation': ['tanh', 'relu'],                              # Функции активации\n",
        "    'learning_rate_init': [0.001, 0.01]                          # Скорости обучения\n",
        "}\n"
      ]
    },
    {
      "cell_type": "markdown",
      "metadata": {
        "id": "cxLLtdP6CIv-"
      },
      "source": [
        "**Сколько вариантов модели будет в итоге обучено?**\n",
        "\n",
        "Ваш ответ: 4 * 2 * 2 = 16"
      ]
    },
    {
      "cell_type": "code",
      "execution_count": 8,
      "metadata": {
        "id": "sQNECXh_AS0N"
      },
      "outputs": [],
      "source": [
        "from sklearn.model_selection import GridSearchCV\n",
        "from sklearn.neural_network import MLPClassifier"
      ]
    },
    {
      "cell_type": "code",
      "execution_count": 9,
      "metadata": {
        "id": "o0Gpl5_9APoB"
      },
      "outputs": [
        {
          "data": {
            "text/html": [
              "<style>#sk-container-id-1 {\n",
              "  /* Definition of color scheme common for light and dark mode */\n",
              "  --sklearn-color-text: black;\n",
              "  --sklearn-color-line: gray;\n",
              "  /* Definition of color scheme for unfitted estimators */\n",
              "  --sklearn-color-unfitted-level-0: #fff5e6;\n",
              "  --sklearn-color-unfitted-level-1: #f6e4d2;\n",
              "  --sklearn-color-unfitted-level-2: #ffe0b3;\n",
              "  --sklearn-color-unfitted-level-3: chocolate;\n",
              "  /* Definition of color scheme for fitted estimators */\n",
              "  --sklearn-color-fitted-level-0: #f0f8ff;\n",
              "  --sklearn-color-fitted-level-1: #d4ebff;\n",
              "  --sklearn-color-fitted-level-2: #b3dbfd;\n",
              "  --sklearn-color-fitted-level-3: cornflowerblue;\n",
              "\n",
              "  /* Specific color for light theme */\n",
              "  --sklearn-color-text-on-default-background: var(--sg-text-color, var(--theme-code-foreground, var(--jp-content-font-color1, black)));\n",
              "  --sklearn-color-background: var(--sg-background-color, var(--theme-background, var(--jp-layout-color0, white)));\n",
              "  --sklearn-color-border-box: var(--sg-text-color, var(--theme-code-foreground, var(--jp-content-font-color1, black)));\n",
              "  --sklearn-color-icon: #696969;\n",
              "\n",
              "  @media (prefers-color-scheme: dark) {\n",
              "    /* Redefinition of color scheme for dark theme */\n",
              "    --sklearn-color-text-on-default-background: var(--sg-text-color, var(--theme-code-foreground, var(--jp-content-font-color1, white)));\n",
              "    --sklearn-color-background: var(--sg-background-color, var(--theme-background, var(--jp-layout-color0, #111)));\n",
              "    --sklearn-color-border-box: var(--sg-text-color, var(--theme-code-foreground, var(--jp-content-font-color1, white)));\n",
              "    --sklearn-color-icon: #878787;\n",
              "  }\n",
              "}\n",
              "\n",
              "#sk-container-id-1 {\n",
              "  color: var(--sklearn-color-text);\n",
              "}\n",
              "\n",
              "#sk-container-id-1 pre {\n",
              "  padding: 0;\n",
              "}\n",
              "\n",
              "#sk-container-id-1 input.sk-hidden--visually {\n",
              "  border: 0;\n",
              "  clip: rect(1px 1px 1px 1px);\n",
              "  clip: rect(1px, 1px, 1px, 1px);\n",
              "  height: 1px;\n",
              "  margin: -1px;\n",
              "  overflow: hidden;\n",
              "  padding: 0;\n",
              "  position: absolute;\n",
              "  width: 1px;\n",
              "}\n",
              "\n",
              "#sk-container-id-1 div.sk-dashed-wrapped {\n",
              "  border: 1px dashed var(--sklearn-color-line);\n",
              "  margin: 0 0.4em 0.5em 0.4em;\n",
              "  box-sizing: border-box;\n",
              "  padding-bottom: 0.4em;\n",
              "  background-color: var(--sklearn-color-background);\n",
              "}\n",
              "\n",
              "#sk-container-id-1 div.sk-container {\n",
              "  /* jupyter's `normalize.less` sets `[hidden] { display: none; }`\n",
              "     but bootstrap.min.css set `[hidden] { display: none !important; }`\n",
              "     so we also need the `!important` here to be able to override the\n",
              "     default hidden behavior on the sphinx rendered scikit-learn.org.\n",
              "     See: https://github.com/scikit-learn/scikit-learn/issues/21755 */\n",
              "  display: inline-block !important;\n",
              "  position: relative;\n",
              "}\n",
              "\n",
              "#sk-container-id-1 div.sk-text-repr-fallback {\n",
              "  display: none;\n",
              "}\n",
              "\n",
              "div.sk-parallel-item,\n",
              "div.sk-serial,\n",
              "div.sk-item {\n",
              "  /* draw centered vertical line to link estimators */\n",
              "  background-image: linear-gradient(var(--sklearn-color-text-on-default-background), var(--sklearn-color-text-on-default-background));\n",
              "  background-size: 2px 100%;\n",
              "  background-repeat: no-repeat;\n",
              "  background-position: center center;\n",
              "}\n",
              "\n",
              "/* Parallel-specific style estimator block */\n",
              "\n",
              "#sk-container-id-1 div.sk-parallel-item::after {\n",
              "  content: \"\";\n",
              "  width: 100%;\n",
              "  border-bottom: 2px solid var(--sklearn-color-text-on-default-background);\n",
              "  flex-grow: 1;\n",
              "}\n",
              "\n",
              "#sk-container-id-1 div.sk-parallel {\n",
              "  display: flex;\n",
              "  align-items: stretch;\n",
              "  justify-content: center;\n",
              "  background-color: var(--sklearn-color-background);\n",
              "  position: relative;\n",
              "}\n",
              "\n",
              "#sk-container-id-1 div.sk-parallel-item {\n",
              "  display: flex;\n",
              "  flex-direction: column;\n",
              "}\n",
              "\n",
              "#sk-container-id-1 div.sk-parallel-item:first-child::after {\n",
              "  align-self: flex-end;\n",
              "  width: 50%;\n",
              "}\n",
              "\n",
              "#sk-container-id-1 div.sk-parallel-item:last-child::after {\n",
              "  align-self: flex-start;\n",
              "  width: 50%;\n",
              "}\n",
              "\n",
              "#sk-container-id-1 div.sk-parallel-item:only-child::after {\n",
              "  width: 0;\n",
              "}\n",
              "\n",
              "/* Serial-specific style estimator block */\n",
              "\n",
              "#sk-container-id-1 div.sk-serial {\n",
              "  display: flex;\n",
              "  flex-direction: column;\n",
              "  align-items: center;\n",
              "  background-color: var(--sklearn-color-background);\n",
              "  padding-right: 1em;\n",
              "  padding-left: 1em;\n",
              "}\n",
              "\n",
              "\n",
              "/* Toggleable style: style used for estimator/Pipeline/ColumnTransformer box that is\n",
              "clickable and can be expanded/collapsed.\n",
              "- Pipeline and ColumnTransformer use this feature and define the default style\n",
              "- Estimators will overwrite some part of the style using the `sk-estimator` class\n",
              "*/\n",
              "\n",
              "/* Pipeline and ColumnTransformer style (default) */\n",
              "\n",
              "#sk-container-id-1 div.sk-toggleable {\n",
              "  /* Default theme specific background. It is overwritten whether we have a\n",
              "  specific estimator or a Pipeline/ColumnTransformer */\n",
              "  background-color: var(--sklearn-color-background);\n",
              "}\n",
              "\n",
              "/* Toggleable label */\n",
              "#sk-container-id-1 label.sk-toggleable__label {\n",
              "  cursor: pointer;\n",
              "  display: block;\n",
              "  width: 100%;\n",
              "  margin-bottom: 0;\n",
              "  padding: 0.5em;\n",
              "  box-sizing: border-box;\n",
              "  text-align: center;\n",
              "}\n",
              "\n",
              "#sk-container-id-1 label.sk-toggleable__label-arrow:before {\n",
              "  /* Arrow on the left of the label */\n",
              "  content: \"▸\";\n",
              "  float: left;\n",
              "  margin-right: 0.25em;\n",
              "  color: var(--sklearn-color-icon);\n",
              "}\n",
              "\n",
              "#sk-container-id-1 label.sk-toggleable__label-arrow:hover:before {\n",
              "  color: var(--sklearn-color-text);\n",
              "}\n",
              "\n",
              "/* Toggleable content - dropdown */\n",
              "\n",
              "#sk-container-id-1 div.sk-toggleable__content {\n",
              "  max-height: 0;\n",
              "  max-width: 0;\n",
              "  overflow: hidden;\n",
              "  text-align: left;\n",
              "  /* unfitted */\n",
              "  background-color: var(--sklearn-color-unfitted-level-0);\n",
              "}\n",
              "\n",
              "#sk-container-id-1 div.sk-toggleable__content.fitted {\n",
              "  /* fitted */\n",
              "  background-color: var(--sklearn-color-fitted-level-0);\n",
              "}\n",
              "\n",
              "#sk-container-id-1 div.sk-toggleable__content pre {\n",
              "  margin: 0.2em;\n",
              "  border-radius: 0.25em;\n",
              "  color: var(--sklearn-color-text);\n",
              "  /* unfitted */\n",
              "  background-color: var(--sklearn-color-unfitted-level-0);\n",
              "}\n",
              "\n",
              "#sk-container-id-1 div.sk-toggleable__content.fitted pre {\n",
              "  /* unfitted */\n",
              "  background-color: var(--sklearn-color-fitted-level-0);\n",
              "}\n",
              "\n",
              "#sk-container-id-1 input.sk-toggleable__control:checked~div.sk-toggleable__content {\n",
              "  /* Expand drop-down */\n",
              "  max-height: 200px;\n",
              "  max-width: 100%;\n",
              "  overflow: auto;\n",
              "}\n",
              "\n",
              "#sk-container-id-1 input.sk-toggleable__control:checked~label.sk-toggleable__label-arrow:before {\n",
              "  content: \"▾\";\n",
              "}\n",
              "\n",
              "/* Pipeline/ColumnTransformer-specific style */\n",
              "\n",
              "#sk-container-id-1 div.sk-label input.sk-toggleable__control:checked~label.sk-toggleable__label {\n",
              "  color: var(--sklearn-color-text);\n",
              "  background-color: var(--sklearn-color-unfitted-level-2);\n",
              "}\n",
              "\n",
              "#sk-container-id-1 div.sk-label.fitted input.sk-toggleable__control:checked~label.sk-toggleable__label {\n",
              "  background-color: var(--sklearn-color-fitted-level-2);\n",
              "}\n",
              "\n",
              "/* Estimator-specific style */\n",
              "\n",
              "/* Colorize estimator box */\n",
              "#sk-container-id-1 div.sk-estimator input.sk-toggleable__control:checked~label.sk-toggleable__label {\n",
              "  /* unfitted */\n",
              "  background-color: var(--sklearn-color-unfitted-level-2);\n",
              "}\n",
              "\n",
              "#sk-container-id-1 div.sk-estimator.fitted input.sk-toggleable__control:checked~label.sk-toggleable__label {\n",
              "  /* fitted */\n",
              "  background-color: var(--sklearn-color-fitted-level-2);\n",
              "}\n",
              "\n",
              "#sk-container-id-1 div.sk-label label.sk-toggleable__label,\n",
              "#sk-container-id-1 div.sk-label label {\n",
              "  /* The background is the default theme color */\n",
              "  color: var(--sklearn-color-text-on-default-background);\n",
              "}\n",
              "\n",
              "/* On hover, darken the color of the background */\n",
              "#sk-container-id-1 div.sk-label:hover label.sk-toggleable__label {\n",
              "  color: var(--sklearn-color-text);\n",
              "  background-color: var(--sklearn-color-unfitted-level-2);\n",
              "}\n",
              "\n",
              "/* Label box, darken color on hover, fitted */\n",
              "#sk-container-id-1 div.sk-label.fitted:hover label.sk-toggleable__label.fitted {\n",
              "  color: var(--sklearn-color-text);\n",
              "  background-color: var(--sklearn-color-fitted-level-2);\n",
              "}\n",
              "\n",
              "/* Estimator label */\n",
              "\n",
              "#sk-container-id-1 div.sk-label label {\n",
              "  font-family: monospace;\n",
              "  font-weight: bold;\n",
              "  display: inline-block;\n",
              "  line-height: 1.2em;\n",
              "}\n",
              "\n",
              "#sk-container-id-1 div.sk-label-container {\n",
              "  text-align: center;\n",
              "}\n",
              "\n",
              "/* Estimator-specific */\n",
              "#sk-container-id-1 div.sk-estimator {\n",
              "  font-family: monospace;\n",
              "  border: 1px dotted var(--sklearn-color-border-box);\n",
              "  border-radius: 0.25em;\n",
              "  box-sizing: border-box;\n",
              "  margin-bottom: 0.5em;\n",
              "  /* unfitted */\n",
              "  background-color: var(--sklearn-color-unfitted-level-0);\n",
              "}\n",
              "\n",
              "#sk-container-id-1 div.sk-estimator.fitted {\n",
              "  /* fitted */\n",
              "  background-color: var(--sklearn-color-fitted-level-0);\n",
              "}\n",
              "\n",
              "/* on hover */\n",
              "#sk-container-id-1 div.sk-estimator:hover {\n",
              "  /* unfitted */\n",
              "  background-color: var(--sklearn-color-unfitted-level-2);\n",
              "}\n",
              "\n",
              "#sk-container-id-1 div.sk-estimator.fitted:hover {\n",
              "  /* fitted */\n",
              "  background-color: var(--sklearn-color-fitted-level-2);\n",
              "}\n",
              "\n",
              "/* Specification for estimator info (e.g. \"i\" and \"?\") */\n",
              "\n",
              "/* Common style for \"i\" and \"?\" */\n",
              "\n",
              ".sk-estimator-doc-link,\n",
              "a:link.sk-estimator-doc-link,\n",
              "a:visited.sk-estimator-doc-link {\n",
              "  float: right;\n",
              "  font-size: smaller;\n",
              "  line-height: 1em;\n",
              "  font-family: monospace;\n",
              "  background-color: var(--sklearn-color-background);\n",
              "  border-radius: 1em;\n",
              "  height: 1em;\n",
              "  width: 1em;\n",
              "  text-decoration: none !important;\n",
              "  margin-left: 1ex;\n",
              "  /* unfitted */\n",
              "  border: var(--sklearn-color-unfitted-level-1) 1pt solid;\n",
              "  color: var(--sklearn-color-unfitted-level-1);\n",
              "}\n",
              "\n",
              ".sk-estimator-doc-link.fitted,\n",
              "a:link.sk-estimator-doc-link.fitted,\n",
              "a:visited.sk-estimator-doc-link.fitted {\n",
              "  /* fitted */\n",
              "  border: var(--sklearn-color-fitted-level-1) 1pt solid;\n",
              "  color: var(--sklearn-color-fitted-level-1);\n",
              "}\n",
              "\n",
              "/* On hover */\n",
              "div.sk-estimator:hover .sk-estimator-doc-link:hover,\n",
              ".sk-estimator-doc-link:hover,\n",
              "div.sk-label-container:hover .sk-estimator-doc-link:hover,\n",
              ".sk-estimator-doc-link:hover {\n",
              "  /* unfitted */\n",
              "  background-color: var(--sklearn-color-unfitted-level-3);\n",
              "  color: var(--sklearn-color-background);\n",
              "  text-decoration: none;\n",
              "}\n",
              "\n",
              "div.sk-estimator.fitted:hover .sk-estimator-doc-link.fitted:hover,\n",
              ".sk-estimator-doc-link.fitted:hover,\n",
              "div.sk-label-container:hover .sk-estimator-doc-link.fitted:hover,\n",
              ".sk-estimator-doc-link.fitted:hover {\n",
              "  /* fitted */\n",
              "  background-color: var(--sklearn-color-fitted-level-3);\n",
              "  color: var(--sklearn-color-background);\n",
              "  text-decoration: none;\n",
              "}\n",
              "\n",
              "/* Span, style for the box shown on hovering the info icon */\n",
              ".sk-estimator-doc-link span {\n",
              "  display: none;\n",
              "  z-index: 9999;\n",
              "  position: relative;\n",
              "  font-weight: normal;\n",
              "  right: .2ex;\n",
              "  padding: .5ex;\n",
              "  margin: .5ex;\n",
              "  width: min-content;\n",
              "  min-width: 20ex;\n",
              "  max-width: 50ex;\n",
              "  color: var(--sklearn-color-text);\n",
              "  box-shadow: 2pt 2pt 4pt #999;\n",
              "  /* unfitted */\n",
              "  background: var(--sklearn-color-unfitted-level-0);\n",
              "  border: .5pt solid var(--sklearn-color-unfitted-level-3);\n",
              "}\n",
              "\n",
              ".sk-estimator-doc-link.fitted span {\n",
              "  /* fitted */\n",
              "  background: var(--sklearn-color-fitted-level-0);\n",
              "  border: var(--sklearn-color-fitted-level-3);\n",
              "}\n",
              "\n",
              ".sk-estimator-doc-link:hover span {\n",
              "  display: block;\n",
              "}\n",
              "\n",
              "/* \"?\"-specific style due to the `<a>` HTML tag */\n",
              "\n",
              "#sk-container-id-1 a.estimator_doc_link {\n",
              "  float: right;\n",
              "  font-size: 1rem;\n",
              "  line-height: 1em;\n",
              "  font-family: monospace;\n",
              "  background-color: var(--sklearn-color-background);\n",
              "  border-radius: 1rem;\n",
              "  height: 1rem;\n",
              "  width: 1rem;\n",
              "  text-decoration: none;\n",
              "  /* unfitted */\n",
              "  color: var(--sklearn-color-unfitted-level-1);\n",
              "  border: var(--sklearn-color-unfitted-level-1) 1pt solid;\n",
              "}\n",
              "\n",
              "#sk-container-id-1 a.estimator_doc_link.fitted {\n",
              "  /* fitted */\n",
              "  border: var(--sklearn-color-fitted-level-1) 1pt solid;\n",
              "  color: var(--sklearn-color-fitted-level-1);\n",
              "}\n",
              "\n",
              "/* On hover */\n",
              "#sk-container-id-1 a.estimator_doc_link:hover {\n",
              "  /* unfitted */\n",
              "  background-color: var(--sklearn-color-unfitted-level-3);\n",
              "  color: var(--sklearn-color-background);\n",
              "  text-decoration: none;\n",
              "}\n",
              "\n",
              "#sk-container-id-1 a.estimator_doc_link.fitted:hover {\n",
              "  /* fitted */\n",
              "  background-color: var(--sklearn-color-fitted-level-3);\n",
              "}\n",
              "</style><div id=\"sk-container-id-1\" class=\"sk-top-container\"><div class=\"sk-text-repr-fallback\"><pre>GridSearchCV(cv=3, estimator=MLPClassifier(max_iter=1000, random_state=42),\n",
              "             param_grid={&#x27;activation&#x27;: [&#x27;tanh&#x27;, &#x27;relu&#x27;],\n",
              "                         &#x27;hidden_layer_sizes&#x27;: [(50,), (100,), (50, 50),\n",
              "                                                (100, 50)],\n",
              "                         &#x27;learning_rate_init&#x27;: [0.001, 0.01]},\n",
              "             scoring=&#x27;accuracy&#x27;)</pre><b>In a Jupyter environment, please rerun this cell to show the HTML representation or trust the notebook. <br />On GitHub, the HTML representation is unable to render, please try loading this page with nbviewer.org.</b></div><div class=\"sk-container\" hidden><div class=\"sk-item sk-dashed-wrapped\"><div class=\"sk-label-container\"><div class=\"sk-label fitted sk-toggleable\"><input class=\"sk-toggleable__control sk-hidden--visually\" id=\"sk-estimator-id-1\" type=\"checkbox\" ><label for=\"sk-estimator-id-1\" class=\"sk-toggleable__label fitted sk-toggleable__label-arrow fitted\">&nbsp;&nbsp;GridSearchCV<a class=\"sk-estimator-doc-link fitted\" rel=\"noreferrer\" target=\"_blank\" href=\"https://scikit-learn.org/1.4/modules/generated/sklearn.model_selection.GridSearchCV.html\">?<span>Documentation for GridSearchCV</span></a><span class=\"sk-estimator-doc-link fitted\">i<span>Fitted</span></span></label><div class=\"sk-toggleable__content fitted\"><pre>GridSearchCV(cv=3, estimator=MLPClassifier(max_iter=1000, random_state=42),\n",
              "             param_grid={&#x27;activation&#x27;: [&#x27;tanh&#x27;, &#x27;relu&#x27;],\n",
              "                         &#x27;hidden_layer_sizes&#x27;: [(50,), (100,), (50, 50),\n",
              "                                                (100, 50)],\n",
              "                         &#x27;learning_rate_init&#x27;: [0.001, 0.01]},\n",
              "             scoring=&#x27;accuracy&#x27;)</pre></div> </div></div><div class=\"sk-parallel\"><div class=\"sk-parallel-item\"><div class=\"sk-item\"><div class=\"sk-label-container\"><div class=\"sk-label fitted sk-toggleable\"><input class=\"sk-toggleable__control sk-hidden--visually\" id=\"sk-estimator-id-2\" type=\"checkbox\" ><label for=\"sk-estimator-id-2\" class=\"sk-toggleable__label fitted sk-toggleable__label-arrow fitted\">estimator: MLPClassifier</label><div class=\"sk-toggleable__content fitted\"><pre>MLPClassifier(max_iter=1000, random_state=42)</pre></div> </div></div><div class=\"sk-serial\"><div class=\"sk-item\"><div class=\"sk-estimator fitted sk-toggleable\"><input class=\"sk-toggleable__control sk-hidden--visually\" id=\"sk-estimator-id-3\" type=\"checkbox\" ><label for=\"sk-estimator-id-3\" class=\"sk-toggleable__label fitted sk-toggleable__label-arrow fitted\">&nbsp;MLPClassifier<a class=\"sk-estimator-doc-link fitted\" rel=\"noreferrer\" target=\"_blank\" href=\"https://scikit-learn.org/1.4/modules/generated/sklearn.neural_network.MLPClassifier.html\">?<span>Documentation for MLPClassifier</span></a></label><div class=\"sk-toggleable__content fitted\"><pre>MLPClassifier(max_iter=1000, random_state=42)</pre></div> </div></div></div></div></div></div></div></div></div>"
            ],
            "text/plain": [
              "GridSearchCV(cv=3, estimator=MLPClassifier(max_iter=1000, random_state=42),\n",
              "             param_grid={'activation': ['tanh', 'relu'],\n",
              "                         'hidden_layer_sizes': [(50,), (100,), (50, 50),\n",
              "                                                (100, 50)],\n",
              "                         'learning_rate_init': [0.001, 0.01]},\n",
              "             scoring='accuracy')"
            ]
          },
          "execution_count": 9,
          "metadata": {},
          "output_type": "execute_result"
        }
      ],
      "source": [
        "mlp = MLPClassifier(max_iter=1000, random_state=42)\n",
        "\n",
        "grid_search = GridSearchCV(mlp, param_grid, cv=3, scoring='accuracy')\n",
        "grid_search.fit(X_train_scaled, y_train) # Запустите обучение с нужными данными"
      ]
    },
    {
      "cell_type": "markdown",
      "metadata": {
        "id": "W6Y5jQacCVF1"
      },
      "source": [
        "**Что значит cv=3 для GridSearchCV?**\n",
        "\n",
        "Ваш ответ:\n",
        "Параметр cv=3 в GridSearchCV означает, что для оценки каждой комбинации гиперпараметров используется 3-кратная кросс-валидация. Это означает следующее:\n",
        "\n",
        "Весь набор данных разделяется на 3 части (или \"фолды\").\n",
        "Для каждой комбинации гиперпараметров модель обучается и тестируется 3 раза:\n",
        "- В первой итерации первый фолд используется в качестве тестового набора, а остальные два - как обучающие.\n",
        "- Во второй итерации второй фолд становится тестовым, а первый и третий - обучающими.\n",
        "- В третьей итерации третий фолд используется для тестирования, а первые два - для обучения.\n",
        "Результаты каждого из этих тестов усредняются, чтобы получить оценку эффективности данной комбинации гиперпараметров."
      ]
    },
    {
      "cell_type": "code",
      "execution_count": 10,
      "metadata": {
        "id": "e9UUYEoPAvtg"
      },
      "outputs": [
        {
          "name": "stdout",
          "output_type": "stream",
          "text": [
            "Гиперпараметры модели с лучшим результатом: {'activation': 'relu', 'hidden_layer_sizes': (100,), 'learning_rate_init': 0.01}\n",
            "Лучшая точность при кросс валидации: 0.70\n"
          ]
        }
      ],
      "source": [
        "print(f\"Гиперпараметры модели с лучшим результатом: {grid_search.best_params_}\")\n",
        "print(f\"Лучшая точность при кросс валидации: {grid_search.best_score_:.2f}\")"
      ]
    },
    {
      "cell_type": "markdown",
      "metadata": {
        "id": "YO7BbXzdCcgB"
      },
      "source": [
        "## Тест наилучшей модели"
      ]
    },
    {
      "cell_type": "code",
      "execution_count": 11,
      "metadata": {
        "id": "Wk3d147YAwZE"
      },
      "outputs": [
        {
          "name": "stdout",
          "output_type": "stream",
          "text": [
            "Точность на тестовой выборке: 0.74\n"
          ]
        }
      ],
      "source": [
        "test_accuracy = grid_search.score(X_test_scaled, y_test) # Подставьте данные тестовой выборки\n",
        "print(f\"Точность на тестовой выборке: {test_accuracy:.2f}\")"
      ]
    },
    {
      "cell_type": "code",
      "execution_count": 12,
      "metadata": {
        "id": "K9vJahQNDKUf"
      },
      "outputs": [],
      "source": [
        "# Если понадобится сохранить лучший вариант, то он находится в атрибуте best_estimator_\n",
        "# Все данные по кросс валидации находятся в атрибуте cv_results_\n",
        "\n",
        "best_model = grid_search.best_estimator_"
      ]
    },
    {
      "cell_type": "markdown",
      "metadata": {
        "id": "EthloiEIJi3v"
      },
      "source": [
        "**Что такое эпоха (epoch) при обучении модели?**\n",
        "\n",
        "Ваш ответ: один полный проход алгоритма обучения по всему обучающему набору данных.\n",
        "\n",
        "**Сколько эпох задается изначально при создании MLPClassifier?**\n",
        "\n",
        "Ваш ответ: По умолчанию при создании объекта MLPClassifier в библиотеке sklearn количество эпох (заданное как max_iter) равно 200. Это означает, что если не указать значение max_iter явно, модель будет обучаться на протяжении 200 эпох, если не достигнет критерия сходимости раньше.\n",
        "\n",
        "**Для чего требуется регуляризация L2 или L1?**\n",
        "\n",
        "Ваш ответ: Регуляризация L2 и L1 используются для предотвращения переобучения модели за счет добавления штрафа к величине весов. Эти методы помогают уменьшить сложность модели и снижать риск переобучения, заставляя веса быть более малыми или даже нулевыми.\n",
        "\n",
        "**Сколько параметров в вашей лучшей модели?**\n",
        "\n",
        "Ваш ответ: имеет один скрытый слой с 100 нейронами и использует функцию активации ReLU."
      ]
    }
  ],
  "metadata": {
    "colab": {
      "provenance": []
    },
    "kernelspec": {
      "display_name": "Python 3",
      "name": "python3"
    },
    "language_info": {
      "codemirror_mode": {
        "name": "ipython",
        "version": 3
      },
      "file_extension": ".py",
      "mimetype": "text/x-python",
      "name": "python",
      "nbconvert_exporter": "python",
      "pygments_lexer": "ipython3",
      "version": "3.11.5"
    }
  },
  "nbformat": 4,
  "nbformat_minor": 0
}
